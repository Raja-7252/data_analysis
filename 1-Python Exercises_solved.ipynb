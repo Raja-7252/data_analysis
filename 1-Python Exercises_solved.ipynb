{
 "cells": [
  {
   "cell_type": "markdown",
   "metadata": {},
   "source": [
    "# <center>EE 590 Basics of Data Analysis and Machine Learning</center>\n",
    "## <center>Python Exercises</center>\n",
    "## <center>Due Date: Thursday, August 31</center>"
   ]
  },
  {
   "cell_type": "markdown",
   "metadata": {},
   "source": [
    "## Please complete the following Python exercises. Write your code in this Jupyter Notebook and submit the completed work."
   ]
  },
  {
   "cell_type": "code",
   "execution_count": 53,
   "metadata": {},
   "outputs": [
    {
     "name": "stdout",
     "output_type": "stream",
     "text": [
      "Hello\n"
     ]
    }
   ],
   "source": [
    "# Exercise 1: Print \"Hello, World!\" to the console.\n",
    "import math\n",
    "import random\n",
    "print(\"Hello ,World!\")\n"
   ]
  },
  {
   "cell_type": "code",
   "execution_count": 32,
   "metadata": {},
   "outputs": [
    {
     "name": "stdout",
     "output_type": "stream",
     "text": [
      "3\n",
      "3\n",
      "6\n"
     ]
    }
   ],
   "source": [
    "# Exercise 2: Calculate the sum of two numbers provided by the user.\n",
    "a=int(input());\n",
    "b=int(input());\n",
    "c=a+b;\n",
    "print(c);"
   ]
  },
  {
   "cell_type": "code",
   "execution_count": 33,
   "metadata": {},
   "outputs": [
    {
     "name": "stdout",
     "output_type": "stream",
     "text": [
      "4\n",
      "even\n"
     ]
    }
   ],
   "source": [
    "# Exercise 3: Check if a given number is even or odd.\n",
    "a = int(input());\n",
    "if a%2==0:\n",
    "    print(\"even\")\n",
    "else:\n",
    "    print(\"odd\")"
   ]
  },
  {
   "cell_type": "code",
   "execution_count": 34,
   "metadata": {},
   "outputs": [
    {
     "name": "stdout",
     "output_type": "stream",
     "text": [
      "6\n",
      "720\n"
     ]
    }
   ],
   "source": [
    "# Exercise 4: Calculate the factorial of a given number.\n",
    "n=int(input())\n",
    "y=1\n",
    "for i in range(1,n+1,1):\n",
    "    y=y*i\n",
    "print(y)\n"
   ]
  },
  {
   "cell_type": "code",
   "execution_count": 35,
   "metadata": {},
   "outputs": [
    {
     "name": "stdout",
     "output_type": "stream",
     "text": [
      "30\n"
     ]
    }
   ],
   "source": [
    "# Exercise 5: Write a program to find the largest element in a list.\n",
    "a = [1,2,30,4,5]\n",
    "n = len(a)\n",
    "max = a[0]\n",
    "for i in range(n):\n",
    "    if a[i] > max:\n",
    "        max = a[i]\n",
    "print(max)"
   ]
  },
  {
   "cell_type": "code",
   "execution_count": 36,
   "metadata": {},
   "outputs": [
    {
     "name": "stdout",
     "output_type": "stream",
     "text": [
      "Enter a string: apple\n",
      "Reversed string: elppa\n"
     ]
    }
   ],
   "source": [
    "# Exercise 6: Reverse a string provided by the user.\n",
    "# Get input from the user\n",
    "input_string = input(\"Enter a string: \")\n",
    "\n",
    "# Reverse the string using slicing\n",
    "reversed_string = input_string[::-1]\n",
    "\n",
    "# Print the reversed string\n",
    "print(\"Reversed string:\", reversed_string)\n"
   ]
  },
  {
   "cell_type": "code",
   "execution_count": 40,
   "metadata": {},
   "outputs": [
    {
     "name": "stdout",
     "output_type": "stream",
     "text": [
      "Enter any number: 6\n",
      "6 is not a prime number\n"
     ]
    }
   ],
   "source": [
    "# Exercise 7: Write a function that checks whether a given number is prime.\n",
    "number = int(input(\"Enter any number: \"))\n",
    "\n",
    "for i in range(2, number):\n",
    "    if (number % i) == 0:\n",
    "        print(number, \"is not a prime number\")\n",
    "        break\n",
    "    else:\n",
    "        print(number, \"is a prime number\")\n"
   ]
  },
  {
   "cell_type": "code",
   "execution_count": 41,
   "metadata": {},
   "outputs": [
    {
     "name": "stdout",
     "output_type": "stream",
     "text": [
      "enter any number :6\n",
      "0 1 1 2 3 5 "
     ]
    }
   ],
   "source": [
    "# Exercise 8: Calculate the Fibonacci sequence up to a specified number of terms.\n",
    "num = int(input(\"enter any number :\"))\n",
    "n1, n2 = 0, 1\n",
    "sum =0\n",
    "if num<=0:\n",
    "    print('please enter number greater than 0')\n",
    "else:\n",
    "    for i in range(0, num):\n",
    "        print(sum, end=\" \")\n",
    "        n1 = n2\n",
    "        n2 = sum\n",
    "        sum = n1 + n2"
   ]
  },
  {
   "cell_type": "code",
   "execution_count": 47,
   "metadata": {},
   "outputs": [
    {
     "name": "stdout",
     "output_type": "stream",
     "text": [
      "enter a string:apple\n",
      "count vowels in the given string: 2\n"
     ]
    }
   ],
   "source": [
    "# Exercise 9: Count the number of vowels in a string.\n",
    "str1=input(\"enter a string:\")\n",
    "str1_lower=str1.lower()\n",
    "count=0\n",
    "vowel=\"aeiou\"\n",
    "for i in str1_lower:\n",
    "    if i in vowel:\n",
    "        count=count+1\n",
    "print(\"count vowels in the given string:\",count)\n"
   ]
  },
  {
   "cell_type": "code",
   "execution_count": 49,
   "metadata": {},
   "outputs": [
    {
     "name": "stdout",
     "output_type": "stream",
     "text": [
      "{1: 1, 2: 4, 3: 9, 4: 16}\n"
     ]
    }
   ],
   "source": [
    "# Exercise 10: Create a dictionary with keys as numbers from 1 to 5 and values as their squares.\n",
    "d = {}  \n",
    "\n",
    "for x in range(1, 5):\n",
    "    d[x] = x ** 2\n",
    "\n",
    "print(d) \n",
    "\n",
    "\n",
    "    \n"
   ]
  },
  {
   "cell_type": "code",
   "execution_count": 50,
   "metadata": {},
   "outputs": [
    {
     "name": "stdout",
     "output_type": "stream",
     "text": [
      "{8, 1, 3, 6}\n"
     ]
    }
   ],
   "source": [
    "# Exercise 11: Remove duplicates from a list.\n",
    "#using set we can remove duplicates from list\n",
    "numbers=[1,3,6,8,3,6]\n",
    "print(set(numbers))"
   ]
  },
  {
   "cell_type": "code",
   "execution_count": 51,
   "metadata": {},
   "outputs": [
    {
     "name": "stdout",
     "output_type": "stream",
     "text": [
      "Enter the Size of List: 5\n",
      "Enter 5 Numbers for List: 1\n",
      "3\n",
      "4\n",
      "5\n",
      "6\n",
      "\n",
      "Second Smallest Number = 3\n"
     ]
    }
   ],
   "source": [
    "# Exercise 12: Write a program to find the second smallest number in a list.\n",
    "nums = []\n",
    "print(end=\"Enter the Size of List: \")\n",
    "listSize = int(input())\n",
    "print(end=\"Enter \" +str(listSize)+ \" Numbers for List: \")\n",
    "for i in range(listSize):\n",
    "  nums.append(int(input()))\n",
    "\n",
    "small = nums[0]\n",
    "for i in range(listSize):\n",
    "  if small>nums[i]:\n",
    "    small = nums[i]\n",
    "\n",
    "secondSmall = nums[1]\n",
    "for i in range(listSize):\n",
    "  if secondSmall>nums[i] and nums[i]!=small:\n",
    "    secondSmall = nums[i]\n",
    "\n",
    "if small == secondSmall:\n",
    "  print(\"\\nSecond Smallest Number doesn't exist!\")\n",
    "else:\n",
    "  print(\"\\nSecond Smallest Number = \" + str(secondSmall))\n"
   ]
  },
  {
   "cell_type": "code",
   "execution_count": 26,
   "metadata": {},
   "outputs": [
    {
     "name": "stdout",
     "output_type": "stream",
     "text": [
      "enter a string:malayalam\n",
      "str is a palindrome malayalam\n"
     ]
    }
   ],
   "source": [
    "# Exercise 13: Check if a given string is a palindrome.\n",
    "str=input(\"enter a string:\")\n",
    "if str==str[::-1]:\n",
    "    print(\"str is a palindrome\",str)\n",
    "else:\n",
    "    print(\"str is not a palindrome\",str)\n",
    "\n",
    "\n"
   ]
  },
  {
   "cell_type": "code",
   "execution_count": 54,
   "metadata": {},
   "outputs": [
    {
     "name": "stdout",
     "output_type": "stream",
     "text": [
      "enter the radius of the circle:10\n",
      "area of the circle 314.1592653589793\n"
     ]
    }
   ],
   "source": [
    "# Exercise 14: Create a function to calculate the area of a circle based on its radius.\n",
    "radius=float(input(\"enter the radius of the circle:\"))\n",
    "area=math.pi*radius*radius\n",
    "print(\"area of the circle\",area)\n"
   ]
  },
  {
   "cell_type": "code",
   "execution_count": 55,
   "metadata": {},
   "outputs": [
    {
     "name": "stdout",
     "output_type": "stream",
     "text": [
      "List of random even numbers: [42, 36, 4, 4, 38, 34, 42, 50, 18, 12]\n"
     ]
    }
   ],
   "source": [
    "# Exercise 15: Generate a list of radom even numbers between 1 and 50.\n",
    "\n",
    "def generate_even_numbers(count, start, end):\n",
    "    even_numbers = []\n",
    "    while len(even_numbers) < count:\n",
    "        num = random.randint(start, end)\n",
    "        if num % 2 == 0:\n",
    "            even_numbers.append(num)\n",
    "    return even_numbers\n",
    "\n",
    "count = 10  # Number of even numbers to generate\n",
    "start = 2   # Start range (inclusive)\n",
    "end = 50    # End range (inclusive)\n",
    "\n",
    "even_numbers_list = generate_even_numbers(count, start, end)\n",
    "print(\"List of random even numbers:\", even_numbers_list)\n"
   ]
  },
  {
   "cell_type": "code",
   "execution_count": 56,
   "metadata": {},
   "outputs": [
    {
     "name": "stdout",
     "output_type": "stream",
     "text": [
      "The value of x after swapping: 10\n",
      "The value of y after swapping: 5\n"
     ]
    }
   ],
   "source": [
    "# Exercise 16: Write a program that swaps the values of two variables.\n",
    "\n",
    "x = 5\n",
    "y = 10\n",
    "\n",
    "temp = x\n",
    "x = y\n",
    "y = temp\n",
    "\n",
    "print('The value of x after swapping: {}'.format(x))\n",
    "print('The value of y after swapping: {}'.format(y))\n"
   ]
  },
  {
   "cell_type": "code",
   "execution_count": 57,
   "metadata": {},
   "outputs": [
    {
     "name": "stdout",
     "output_type": "stream",
     "text": [
      "Please select the operation.\n",
      "a. Add\n",
      "b. Subtract\n",
      "c. Multiply\n",
      "d. Divide\n",
      "Please enter choice (a/ b/ c/ d): g\n",
      "Please enter the first number: 5\n",
      "Please enter the second number: 7\n",
      "This is an invalid input\n"
     ]
    }
   ],
   "source": [
    "# Exercise 17: Implement a basic calculator with functions for addition, subtraction, multiplication, and division.\n",
    "\n",
    "def add(x, y):    \n",
    " return x + y   \n",
    "def subtract(x, y):   \n",
    "   return x - y   \n",
    "def multiply(x, y):   \n",
    "    \n",
    "   return x * y   \n",
    "def divide(x, y):   \n",
    "   \n",
    "   return x / y    \n",
    " \n",
    "print (\"Please select the operation.\")    \n",
    "print (\"a. Add\")    \n",
    "print (\"b. Subtract\")    \n",
    "print (\"c. Multiply\")    \n",
    "print (\"d. Divide\")    \n",
    "    \n",
    "choice = input(\"Please enter choice (a/ b/ c/ d): \")    \n",
    "    \n",
    "num_1 = int (input (\"Please enter the first number: \"))    \n",
    "num_2 = int (input (\"Please enter the second number: \"))    \n",
    "    \n",
    "if choice == 'a':    \n",
    "   print (num_1, \" + \", num_2, \" = \", add(num_1, num_2))    \n",
    "    \n",
    "elif choice == 'b':    \n",
    "   print (num_1, \" - \", num_2, \" = \", subtract(num_1, num_2))    \n",
    "    \n",
    "elif choice == 'c':    \n",
    "   print (num_1, \" * \", num_2, \" = \", multiply(num_1, num_2))    \n",
    "elif choice == 'd':    \n",
    "   print (num_1, \" / \", num_2, \" = \", divide(num_1, num_2))    \n",
    "else:    \n",
    "   print (\"This is an invalid input\")    "
   ]
  },
  {
   "cell_type": "code",
   "execution_count": 58,
   "metadata": {},
   "outputs": [
    {
     "name": "stdout",
     "output_type": "stream",
     "text": [
      "Enter a decimal number: 6\n",
      "Binary number is 110 for 6\n"
     ]
    }
   ],
   "source": [
    "# Exercise 18:write a function that converts a decimal integer to binary.\n",
    "\n",
    "decimal = int(input(\"Enter a decimal number: \"))\n",
    "binary = bin(decimal)\n",
    "print(\"Binary number is\", binary[2:], \"for\", decimal)\n"
   ]
  },
  {
   "cell_type": "code",
   "execution_count": 59,
   "metadata": {},
   "outputs": [
    {
     "name": "stdout",
     "output_type": "stream",
     "text": [
      "Common elements: [3, 4, 5]\n"
     ]
    }
   ],
   "source": [
    "# Exercise 19:# Write a function that finds the common elements between two lists.\n",
    "def find_common_elements(list1, list2):\n",
    "    common_elements = []\n",
    "    \n",
    "    for element in list1:\n",
    "        if element in list2:\n",
    "            common_elements.append(element)\n",
    "            \n",
    "    return common_elements\n",
    "\n",
    "list1 = [1, 2, 3, 4, 5]\n",
    "list2 = [3, 4, 5, 6, 7]\n",
    "common_elements = find_common_elements(list1, list2)\n",
    "print(\"Common elements:\", common_elements)\n",
    "\n"
   ]
  },
  {
   "cell_type": "code",
   "execution_count": 19,
   "metadata": {},
   "outputs": [
    {
     "name": "stdout",
     "output_type": "stream",
     "text": [
      "Enter the name of Player 1: f\n",
      "Enter the name of Player 2: v\n",
      "f rolled: 5\n",
      "v rolled: 4\n",
      "f wins!\n"
     ]
    }
   ],
   "source": [
    "# Exercise 20: Create a function that simulates a simple dice rolling game.\n",
    "def roll_dice():\n",
    "    return random.randint(1, 6)\n",
    "\n",
    "def dice_rolling_game():\n",
    "    player1_name = input(\"Enter the name of Player 1: \")\n",
    "    player2_name = input(\"Enter the name of Player 2: \")\n",
    "\n",
    "    player1_roll = roll_dice()\n",
    "    player2_roll = roll_dice()\n",
    "\n",
    "    print(f\"{player1_name} rolled: {player1_roll}\")\n",
    "    print(f\"{player2_name} rolled: {player2_roll}\")\n",
    "\n",
    "    if player1_roll > player2_roll:\n",
    "        print(f\"{player1_name} wins!\")\n",
    "    elif player2_roll > player1_roll:\n",
    "        print(f\"{player2_name} wins!\")\n",
    "    else:\n",
    "        print(\"It's a tie!\")\n",
    "\n",
    "dice_rolling_game()\n",
    "\n"
   ]
  },
  {
   "cell_type": "code",
   "execution_count": 60,
   "metadata": {},
   "outputs": [
    {
     "name": "stdout",
     "output_type": "stream",
     "text": [
      "Square of 5 is: 25\n"
     ]
    }
   ],
   "source": [
    "# Exercise 21: Write a lambda function to find the square of a number.\n",
    "\n",
    "square = lambda x: x**2\n",
    "\n",
    "num = 5\n",
    "result = square(num)\n",
    "print(\"Square of\", num, \"is:\", result)\n"
   ]
  },
  {
   "cell_type": "code",
   "execution_count": 61,
   "metadata": {},
   "outputs": [
    {
     "name": "stdout",
     "output_type": "stream",
     "text": [
      "[1, 4, 9, 16, 25]\n"
     ]
    }
   ],
   "source": [
    "# Exercise 22: Create a list of numbers and use the map() function with a lambda\n",
    "# to square each number in the list.\n",
    "numbers = [1, 2, 3, 4, 5]\n",
    "\n",
    "squared_numbers = list(map(lambda x: x ** 2, numbers))\n",
    "\n",
    "print(squared_numbers)\n"
   ]
  },
  {
   "cell_type": "code",
   "execution_count": 62,
   "metadata": {},
   "outputs": [
    {
     "name": "stdout",
     "output_type": "stream",
     "text": [
      "[2, 3, 5, 7]\n"
     ]
    }
   ],
   "source": [
    "# Exercise 23: Write a function that uses the filter() function to filter out the prime numbers from the input list.\n",
    "def is_prime(n):\n",
    "    if n <= 1:\n",
    "        return False\n",
    "    if n <= 3:\n",
    "        return True\n",
    "    if n % 2 == 0 or n % 3 == 0:\n",
    "        return False\n",
    "    i = 5\n",
    "    while i * i <= n:\n",
    "        if n % i == 0 or n % (i + 2) == 0:\n",
    "            return False\n",
    "        i += 6\n",
    "    return True\n",
    "\n",
    "def filter_primes(input_list):\n",
    "    return list(filter(is_prime, input_list))\n",
    "\n",
    "numbers = [1, 2, 3, 4, 5, 6, 7, 8, 9, 10]\n",
    "prime_numbers = filter_primes(numbers)\n",
    "print(prime_numbers) \n"
   ]
  },
  {
   "cell_type": "code",
   "execution_count": 63,
   "metadata": {},
   "outputs": [
    {
     "name": "stdout",
     "output_type": "stream",
     "text": [
      "4\n",
      "grapes orange\n"
     ]
    }
   ],
   "source": [
    "# Exercise 24: Create a tuple called fruits containing the names of several fruits. \n",
    "# Print the length of the fruits tuple. Access and print the first and last elements of the fruits tuple\n",
    "a=(\"apple\",\"grapes\",\"pineapple\",\"orange\")\n",
    "print(len(a))\n",
    "print(a[1],a[3])"
   ]
  },
  {
   "cell_type": "code",
   "execution_count": 64,
   "metadata": {},
   "outputs": [
    {
     "name": "stdout",
     "output_type": "stream",
     "text": [
      "Initial student dictionary: {'name': 'Alice', 'age': 20, 'major': 'Computer Science'}\n",
      "Updated student dictionary: {'name': 'Alice', 'age': 20, 'major': 'Computer Science', 'gpa': 3.8}\n"
     ]
    }
   ],
   "source": [
    "# Exercise 25: Create a dictionary named student with the following key-value pairs:\n",
    "# \"name\": \"Alice\"\n",
    "# \"age\": 20\n",
    "# \"major\": \"Computer Science\"\n",
    "# Print the dictionary student.\n",
    "# Add a new key-value pair to the student dictionary:\n",
    "# Key: \"gpa\"\n",
    "# Value: 3.8\n",
    "# Print the updated dictionary.\n",
    "student = {\n",
    "    \"name\": \"Alice\",\n",
    "    \"age\": 20,\n",
    "    \"major\": \"Computer Science\"\n",
    "}\n",
    "\n",
    "print(\"Initial student dictionary:\", student)\n",
    "\n",
    "student[\"gpa\"] = 3.8\n",
    "\n",
    "print(\"Updated student dictionary:\", student)\n"
   ]
  },
  {
   "cell_type": "code",
   "execution_count": 65,
   "metadata": {},
   "outputs": [
    {
     "name": "stdout",
     "output_type": "stream",
     "text": [
      "set1: {1, 2, 3, 4}\n",
      "set2: {3, 4, 5, 6}\n",
      "Union of set1 and set2: {1, 2, 3, 4, 5, 6}\n",
      "Intersection of set1 and set2: {3, 4}\n"
     ]
    }
   ],
   "source": [
    "# Exercise 26: Create two sets, set1 and set2, each containing a few elements of your choice.\n",
    "# Print the content of both set1 and set2.\n",
    "# Find and print the union of set1 and set2.\n",
    "# Find and print the intersection of set1 and set2.\n",
    "\n",
    "set1 = {1, 2, 3, 4}\n",
    "set2 = {3, 4, 5, 6}\n",
    "\n",
    "print(\"set1:\", set1)\n",
    "print(\"set2:\", set2)\n",
    "\n",
    "union_set = set1.union(set2)\n",
    "print(\"Union of set1 and set2:\", union_set)\n",
    "\n",
    "intersection_set = set1.intersection(set2)\n",
    "print(\"Intersection of set1 and set2:\", intersection_set)\n"
   ]
  },
  {
   "cell_type": "code",
   "execution_count": null,
   "metadata": {},
   "outputs": [],
   "source": []
  }
 ],
 "metadata": {
  "kernelspec": {
   "display_name": "Python 3 (ipykernel)",
   "language": "python",
   "name": "python3"
  },
  "language_info": {
   "codemirror_mode": {
    "name": "ipython",
    "version": 3
   },
   "file_extension": ".py",
   "mimetype": "text/x-python",
   "name": "python",
   "nbconvert_exporter": "python",
   "pygments_lexer": "ipython3",
   "version": "3.9.12"
  }
 },
 "nbformat": 4,
 "nbformat_minor": 1
}
